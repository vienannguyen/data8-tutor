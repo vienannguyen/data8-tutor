{
 "cells": [
  {
   "cell_type": "markdown",
   "metadata": {},
   "source": [
    "Notebook exercises based off Prof Gonzalez's DS100 lecture"
   ]
  },
  {
   "cell_type": "code",
   "execution_count": 1,
   "metadata": {
    "collapsed": true
   },
   "outputs": [],
   "source": [
    "import numpy as np\n",
    "from datascience import *\n",
    "\n",
    "%matplotlib inline\n",
    "import matplotlib.pyplot as plots\n",
    "plots.style.use('fivethirtyeight')"
   ]
  },
  {
   "cell_type": "markdown",
   "metadata": {},
   "source": [
    "# Data 8 Tutoring Week 3\n",
    "\n",
    "Topics to go over:\n",
    "\n",
    "- Histograms (Question 2.1 - 2.5)\n",
    "    - Horizontal and vertical axes \n",
    "    - Counts in bins, Unequal bins\n",
    "    - General principle/ Calculations\n",
    "    - Bar chart vs. Histograms\n",
    "\n",
    "- Functions \n",
    "    - def statements (Question 3.1)\n",
    "    - apply (Question 3.2)\n",
    "    - Functions as values \n",
    "\n",
    "- Group\n",
    "    - Classify by one variable (Question 3.3, 4.1, 4.2)\n",
    "    - Cross classify by 2 variables (Question 4.3)\n",
    "    - Pivot tables (Question 3.4, 3.5)\n",
    "    - Finding distributions with pivoted tables"
   ]
  },
  {
   "cell_type": "markdown",
   "metadata": {},
   "source": [
    "# Social Security Association\n",
    "\n",
    "Every year, the SSA records all of the baby names who have social security numbers. The \"Count\" column describes how many people of each name were born in that year. \n",
    "For example, there were 295 female Marys in California in the year 1910. (The first row in the baby_names table)"
   ]
  },
  {
   "cell_type": "code",
   "execution_count": 2,
   "metadata": {
    "collapsed": false
   },
   "outputs": [
    {
     "data": {
      "text/html": [
       "<table border=\"1\" class=\"dataframe\">\n",
       "    <thead>\n",
       "        <tr>\n",
       "            <th>State</th> <th>Gender</th> <th>Year</th> <th>Name</th> <th>Count</th>\n",
       "        </tr>\n",
       "    </thead>\n",
       "    <tbody>\n",
       "        <tr>\n",
       "            <td>CA   </td> <td>F     </td> <td>1910</td> <td>Mary     </td> <td>295  </td>\n",
       "        </tr>\n",
       "    </tbody>\n",
       "        <tr>\n",
       "            <td>CA   </td> <td>F     </td> <td>1910</td> <td>Helen    </td> <td>239  </td>\n",
       "        </tr>\n",
       "    </tbody>\n",
       "        <tr>\n",
       "            <td>CA   </td> <td>F     </td> <td>1910</td> <td>Dorothy  </td> <td>220  </td>\n",
       "        </tr>\n",
       "    </tbody>\n",
       "        <tr>\n",
       "            <td>CA   </td> <td>F     </td> <td>1910</td> <td>Margaret </td> <td>163  </td>\n",
       "        </tr>\n",
       "    </tbody>\n",
       "        <tr>\n",
       "            <td>CA   </td> <td>F     </td> <td>1910</td> <td>Frances  </td> <td>134  </td>\n",
       "        </tr>\n",
       "    </tbody>\n",
       "        <tr>\n",
       "            <td>CA   </td> <td>F     </td> <td>1910</td> <td>Ruth     </td> <td>128  </td>\n",
       "        </tr>\n",
       "    </tbody>\n",
       "        <tr>\n",
       "            <td>CA   </td> <td>F     </td> <td>1910</td> <td>Evelyn   </td> <td>126  </td>\n",
       "        </tr>\n",
       "    </tbody>\n",
       "        <tr>\n",
       "            <td>CA   </td> <td>F     </td> <td>1910</td> <td>Alice    </td> <td>118  </td>\n",
       "        </tr>\n",
       "    </tbody>\n",
       "        <tr>\n",
       "            <td>CA   </td> <td>F     </td> <td>1910</td> <td>Virginia </td> <td>101  </td>\n",
       "        </tr>\n",
       "    </tbody>\n",
       "        <tr>\n",
       "            <td>CA   </td> <td>F     </td> <td>1910</td> <td>Elizabeth</td> <td>93   </td>\n",
       "        </tr>\n",
       "    </tbody>\n",
       "</table>\n",
       "<p>... (361118 rows omitted)</p"
      ],
      "text/plain": [
       "State | Gender | Year | Name      | Count\n",
       "CA    | F      | 1910 | Mary      | 295\n",
       "CA    | F      | 1910 | Helen     | 239\n",
       "CA    | F      | 1910 | Dorothy   | 220\n",
       "CA    | F      | 1910 | Margaret  | 163\n",
       "CA    | F      | 1910 | Frances   | 134\n",
       "CA    | F      | 1910 | Ruth      | 128\n",
       "CA    | F      | 1910 | Evelyn    | 126\n",
       "CA    | F      | 1910 | Alice     | 118\n",
       "CA    | F      | 1910 | Virginia  | 101\n",
       "CA    | F      | 1910 | Elizabeth | 93\n",
       "... (361118 rows omitted)"
      ]
     },
     "execution_count": 2,
     "metadata": {},
     "output_type": "execute_result"
    }
   ],
   "source": [
    "column_labels = make_array('State', 'Gender', 'Year', 'Name', 'Count')\n",
    "baby_names = Table().read_table(\"CA.csv\", names = column_labels)\n",
    "baby_names"
   ]
  },
  {
   "cell_type": "markdown",
   "metadata": {
    "collapsed": true
   },
   "source": [
    "## Question 1: What's the data?\n",
    "How much data do we have?\n",
    "How many years does this span?\n",
    "How many people did they record?"
   ]
  },
  {
   "cell_type": "code",
   "execution_count": 3,
   "metadata": {
    "collapsed": false
   },
   "outputs": [
    {
     "name": "stdout",
     "output_type": "stream",
     "text": [
      "Number of entries: 361128\n",
      "Time period of data: 1910 to 2015\n",
      "People recorded: 29686407\n"
     ]
    }
   ],
   "source": [
    "num_entries = baby_names.num_rows # SOLUTION\n",
    "earliest_year = min(baby_names.column('Year')) # SOLUTION\n",
    "lastest_year = max(baby_names.column('Year')) # SOLUTION\n",
    "total_people = sum(baby_names.column('Count')) # SOLUTION\n",
    "\n",
    "print(\"Number of entries: \" + str(num_entries))\n",
    "print(\"Time period of data: \" + str(earliest_year) + \" to \" + str(lastest_year))\n",
    "print(\"People recorded: \" + str(total_people))"
   ]
  },
  {
   "cell_type": "markdown",
   "metadata": {},
   "source": [
    "## Question 2.1: Histograms\n",
    "First, discuss what each entry (row) of the table represents. What do you think a histogram's bins are?\n",
    "\n",
    "Next, make a histogram using the numerical data in the column, Years. Use the year_bins as the bins for your histogram. What do you think the histogram is saying? Discuss the x and y axis."
   ]
  },
  {
   "cell_type": "markdown",
   "metadata": {},
   "source": [
    " *** Write your response here ***\n",
    " \n",
    " SOLUTION:\n",
    " \n",
    "The histogram shows the proportion entries that were in a specific 10 year range. In other words, the histogram is showing us the proportion of names recorded in a specific 10 year range. It is NOT showing us the proportion of people for every 10 years. Remember how the data is collected! One row represents one name, therefore all of the people with that name. One row does NOT represent one person."
   ]
  },
  {
   "cell_type": "code",
   "execution_count": 5,
   "metadata": {
    "collapsed": false
   },
   "outputs": [
    {
     "data": {
      "image/png": "[encoded data removed]",
      "text/plain": [
       "<matplotlib.figure.Figure at 0x7ff7646cf518>"
      ]
     },
     "metadata": {},
     "output_type": "display_data"
    }
   ],
   "source": [
    "year_bins = np.arange(1910, 2020, 10)\n",
    "\n",
    "baby_names.select('Year').hist(bins = year_bins) # SOLUTION"
   ]
  },
  {
   "cell_type": "markdown",
   "metadata": {},
   "source": [
    "## Question 2.2\n",
    "Why do you see a steady increase from 1920 to 2010?"
   ]
  },
  {
   "cell_type": "markdown",
   "metadata": {},
   "source": [
    "*** Write your response here ***\n",
    "\n",
    "SOLUTION\n",
    "\n",
    "Since the area represents the proportion of names recorded in a specific 10 year range, the increase must mean that there was an increase in the amount of names recorded. A reason for this is that people get more and more creative as time goes on, so there are new names that weren't recorded in the past."
   ]
  },
  {
   "cell_type": "markdown",
   "metadata": {},
   "source": [
    "## Question 2.3\n",
    "Calculate the area in the 1980-1990 bin to get the proportion of names recorded from 1980-1990, and name it area_80_90. If we multiply area_80_90 by the total number of entries, we should get the number of names in that time period. Name this variable num_names_80_90.\n",
    "\n",
    "Hint: When we mean calculate the area from a histogram, look at and use the actual displayed histogram.\n",
    "\n",
    "Hint: Remember that the y axis is PERCENT per unit, not PROPORTION per unit!\n",
    "Check your answer by comparing with the number of names "
   ]
  },
  {
   "cell_type": "code",
   "execution_count": 6,
   "metadata": {
    "collapsed": false
   },
   "outputs": [
    {
     "data": {
      "text/plain": [
       "54169.2"
      ]
     },
     "execution_count": 6,
     "metadata": {},
     "output_type": "execute_result"
    }
   ],
   "source": [
    "area_80_90 = 10 * (1.5 / 100) # SOLUTION\n",
    "num_names_80_90 = area_80_90 * num_entries # SOLUTION\n",
    "num_names_80_90"
   ]
  },
  {
   "cell_type": "markdown",
   "metadata": {},
   "source": [
    "## Questions 2.4\n",
    "\n",
    "Check your answer by comparing num_names_80_90 with the actual number of names recorded from 1980 to 1990. To get the actual number, use the baby_names table.\n",
    "\n",
    "The number should be close to each other (maybe 5000 off) because the area calculation is not super accurate."
   ]
  },
  {
   "cell_type": "code",
   "execution_count": 7,
   "metadata": {
    "collapsed": false
   },
   "outputs": [
    {
     "data": {
      "text/plain": [
       "49234"
      ]
     },
     "execution_count": 7,
     "metadata": {},
     "output_type": "execute_result"
    }
   ],
   "source": [
    "# may take ~10 seconds to load\n",
    "actual = baby_names.where('Year', are.between_or_equal_to(1980, 1989)).num_rows # SOLUTION\n",
    "actual"
   ]
  },
  {
   "cell_type": "markdown",
   "metadata": {},
   "source": [
    "Your calculation shows that the area of a bin is indeed the proportion of entries in that bin! Remember, the area of a histogram is extremely important!"
   ]
  },
  {
   "cell_type": "markdown",
   "metadata": {},
   "source": [
    "## Question 2.5 \n",
    "\n",
    "Create a visualization that shows the frequency of values in the column, Counts. Use bins that range from 0 to 1000, with the width 50 for each bin. What is interesting about the visualization? What noticable trend do you see? "
   ]
  },
  {
   "cell_type": "code",
   "execution_count": 72,
   "metadata": {
    "collapsed": false
   },
   "outputs": [
    {
     "data": {
      "image/png": "[encoded data removed]",
      "text/plain": [
       "<matplotlib.figure.Figure at 0x7f575b3ce5c0>"
      ]
     },
     "metadata": {},
     "output_type": "display_data"
    }
   ],
   "source": [
    "baby_names.select('Count').hist(bins = np.arange(0, 1000, 50)) # SOLUTION"
   ]
  },
  {
   "cell_type": "markdown",
   "metadata": {},
   "source": [
    "***Write your answer here***\n",
    "\n",
    "SOLUTION\n",
    "\n",
    "It looks like most of the area is between 0 and 100, so that means that there are a lot of names in the data set where there were less than 100 people with that name born each year. That means there are a lot of uncommon baby names in the California."
   ]
  },
  {
   "cell_type": "markdown",
   "metadata": {},
   "source": [
    "## Question 3.1: Let's define a function\n",
    "\n",
    "Usually, we can guess the gender of a person with his or her name. One simple way you might guess is that the names of females more often start with vowels, instead of consonants. Let's find out if that's really true!\n",
    "\n",
    "Define a function, named ends_with_vowel, that takes in a name argument and returns the first letter as a capital letter. For example first_letter(\"blake\") will return \"B\".\n",
    "\n",
    "Hint: str.upper() capitalizes the entire string \n",
    "\n",
    "Hint 2: str[index] will return the letter at a given index (just like tbl.item(index) )"
   ]
  },
  {
   "cell_type": "code",
   "execution_count": 8,
   "metadata": {
    "collapsed": false
   },
   "outputs": [
    {
     "data": {
      "text/plain": [
       "'B'"
      ]
     },
     "execution_count": 8,
     "metadata": {},
     "output_type": "execute_result"
    }
   ],
   "source": [
    "# Write your function here.\n",
    "\n",
    "def first_letter(name): # SOLUTION\n",
    "    return name.upper()[0]\n",
    "\n",
    "first_letter(\"blake\")"
   ]
  },
  {
   "cell_type": "markdown",
   "metadata": {},
   "source": [
    "## Question 3.2\n",
    "Add a column to baby_names, named First Letter, that extracts the first letter from the Name column. Set the new table to baby_names."
   ]
  },
  {
   "cell_type": "code",
   "execution_count": 9,
   "metadata": {
    "collapsed": false
   },
   "outputs": [
    {
     "data": {
      "text/html": [
       "<table border=\"1\" class=\"dataframe\">\n",
       "    <thead>\n",
       "        <tr>\n",
       "            <th>State</th> <th>Gender</th> <th>Year</th> <th>Name</th> <th>Count</th> <th>First Letter</th>\n",
       "        </tr>\n",
       "    </thead>\n",
       "    <tbody>\n",
       "        <tr>\n",
       "            <td>CA   </td> <td>F     </td> <td>1910</td> <td>Mary     </td> <td>295  </td> <td>M           </td>\n",
       "        </tr>\n",
       "    </tbody>\n",
       "        <tr>\n",
       "            <td>CA   </td> <td>F     </td> <td>1910</td> <td>Helen    </td> <td>239  </td> <td>H           </td>\n",
       "        </tr>\n",
       "    </tbody>\n",
       "        <tr>\n",
       "            <td>CA   </td> <td>F     </td> <td>1910</td> <td>Dorothy  </td> <td>220  </td> <td>D           </td>\n",
       "        </tr>\n",
       "    </tbody>\n",
       "        <tr>\n",
       "            <td>CA   </td> <td>F     </td> <td>1910</td> <td>Margaret </td> <td>163  </td> <td>M           </td>\n",
       "        </tr>\n",
       "    </tbody>\n",
       "        <tr>\n",
       "            <td>CA   </td> <td>F     </td> <td>1910</td> <td>Frances  </td> <td>134  </td> <td>F           </td>\n",
       "        </tr>\n",
       "    </tbody>\n",
       "        <tr>\n",
       "            <td>CA   </td> <td>F     </td> <td>1910</td> <td>Ruth     </td> <td>128  </td> <td>R           </td>\n",
       "        </tr>\n",
       "    </tbody>\n",
       "        <tr>\n",
       "            <td>CA   </td> <td>F     </td> <td>1910</td> <td>Evelyn   </td> <td>126  </td> <td>E           </td>\n",
       "        </tr>\n",
       "    </tbody>\n",
       "        <tr>\n",
       "            <td>CA   </td> <td>F     </td> <td>1910</td> <td>Alice    </td> <td>118  </td> <td>A           </td>\n",
       "        </tr>\n",
       "    </tbody>\n",
       "        <tr>\n",
       "            <td>CA   </td> <td>F     </td> <td>1910</td> <td>Virginia </td> <td>101  </td> <td>V           </td>\n",
       "        </tr>\n",
       "    </tbody>\n",
       "        <tr>\n",
       "            <td>CA   </td> <td>F     </td> <td>1910</td> <td>Elizabeth</td> <td>93   </td> <td>E           </td>\n",
       "        </tr>\n",
       "    </tbody>\n",
       "</table>\n",
       "<p>... (361118 rows omitted)</p"
      ],
      "text/plain": [
       "State | Gender | Year | Name      | Count | First Letter\n",
       "CA    | F      | 1910 | Mary      | 295   | M\n",
       "CA    | F      | 1910 | Helen     | 239   | H\n",
       "CA    | F      | 1910 | Dorothy   | 220   | D\n",
       "CA    | F      | 1910 | Margaret  | 163   | M\n",
       "CA    | F      | 1910 | Frances   | 134   | F\n",
       "CA    | F      | 1910 | Ruth      | 128   | R\n",
       "CA    | F      | 1910 | Evelyn    | 126   | E\n",
       "CA    | F      | 1910 | Alice     | 118   | A\n",
       "CA    | F      | 1910 | Virginia  | 101   | V\n",
       "CA    | F      | 1910 | Elizabeth | 93    | E\n",
       "... (361118 rows omitted)"
      ]
     },
     "execution_count": 9,
     "metadata": {},
     "output_type": "execute_result"
    }
   ],
   "source": [
    "baby_names = baby_names.with_column('First Letter', baby_names.apply(first_letter, \"Name\")) # SOLUTION\n",
    "baby_names"
   ]
  },
  {
   "cell_type": "markdown",
   "metadata": {},
   "source": [
    "## Question 3.3\n",
    "For each letter, how many people were born with that letter as their first letter of their name?\n",
    "Create a table that has a row for every first letter and the number of people whose names start with that letter. The table should be two columns.\n",
    "\n",
    "Sort it in descending order."
   ]
  },
  {
   "cell_type": "code",
   "execution_count": 10,
   "metadata": {
    "collapsed": false
   },
   "outputs": [
    {
     "data": {
      "text/html": [
       "<table border=\"1\" class=\"dataframe\">\n",
       "    <thead>\n",
       "        <tr>\n",
       "            <th>First Letter</th> <th>Count sum</th>\n",
       "        </tr>\n",
       "    </thead>\n",
       "    <tbody>\n",
       "        <tr>\n",
       "            <td>J           </td> <td>4010990  </td>\n",
       "        </tr>\n",
       "    </tbody>\n",
       "        <tr>\n",
       "            <td>A           </td> <td>2969764  </td>\n",
       "        </tr>\n",
       "    </tbody>\n",
       "        <tr>\n",
       "            <td>M           </td> <td>2791841  </td>\n",
       "        </tr>\n",
       "    </tbody>\n",
       "        <tr>\n",
       "            <td>D           </td> <td>2135681  </td>\n",
       "        </tr>\n",
       "    </tbody>\n",
       "        <tr>\n",
       "            <td>C           </td> <td>2115714  </td>\n",
       "        </tr>\n",
       "    </tbody>\n",
       "        <tr>\n",
       "            <td>S           </td> <td>2014973  </td>\n",
       "        </tr>\n",
       "    </tbody>\n",
       "        <tr>\n",
       "            <td>R           </td> <td>2003474  </td>\n",
       "        </tr>\n",
       "    </tbody>\n",
       "        <tr>\n",
       "            <td>K           </td> <td>1479838  </td>\n",
       "        </tr>\n",
       "    </tbody>\n",
       "        <tr>\n",
       "            <td>L           </td> <td>1457044  </td>\n",
       "        </tr>\n",
       "    </tbody>\n",
       "        <tr>\n",
       "            <td>E           </td> <td>1423069  </td>\n",
       "        </tr>\n",
       "    </tbody>\n",
       "</table>\n",
       "<p>... (16 rows omitted)</p"
      ],
      "text/plain": [
       "First Letter | Count sum\n",
       "J            | 4010990\n",
       "A            | 2969764\n",
       "M            | 2791841\n",
       "D            | 2135681\n",
       "C            | 2115714\n",
       "S            | 2014973\n",
       "R            | 2003474\n",
       "K            | 1479838\n",
       "L            | 1457044\n",
       "E            | 1423069\n",
       "... (16 rows omitted)"
      ]
     },
     "execution_count": 10,
     "metadata": {},
     "output_type": "execute_result"
    }
   ],
   "source": [
    "baby_names.select(\"First Letter\", \"Count\").group('First Letter', sum).sort('Count sum', descending = True) # SOLUTION"
   ]
  },
  {
   "cell_type": "markdown",
   "metadata": {},
   "source": [
    "## Question 3.4\n",
    "Although this tells us how many people were born with a certain first letter, this doesn't show us any relationship with a person's gender.\n",
    "\n",
    "Make a pivot table, called pivot_by_first_letter, where the rows labels are the first letter of a name and the column labels are the two genders. We want to see the total babies who were female and male for each given name."
   ]
  },
  {
   "cell_type": "code",
   "execution_count": 11,
   "metadata": {
    "collapsed": false
   },
   "outputs": [
    {
     "data": {
      "text/html": [
       "<table border=\"1\" class=\"dataframe\">\n",
       "    <thead>\n",
       "        <tr>\n",
       "            <th>First Letter</th> <th>F</th> <th>M</th>\n",
       "        </tr>\n",
       "    </thead>\n",
       "    <tbody>\n",
       "        <tr>\n",
       "            <td>A           </td> <td>1564384</td> <td>1405380</td>\n",
       "        </tr>\n",
       "    </tbody>\n",
       "        <tr>\n",
       "            <td>B           </td> <td>563423 </td> <td>666772 </td>\n",
       "        </tr>\n",
       "    </tbody>\n",
       "        <tr>\n",
       "            <td>C           </td> <td>1137692</td> <td>978022 </td>\n",
       "        </tr>\n",
       "    </tbody>\n",
       "        <tr>\n",
       "            <td>D           </td> <td>801246 </td> <td>1334435</td>\n",
       "        </tr>\n",
       "    </tbody>\n",
       "        <tr>\n",
       "            <td>E           </td> <td>714255 </td> <td>708814 </td>\n",
       "        </tr>\n",
       "    </tbody>\n",
       "        <tr>\n",
       "            <td>F           </td> <td>110414 </td> <td>269636 </td>\n",
       "        </tr>\n",
       "    </tbody>\n",
       "        <tr>\n",
       "            <td>G           </td> <td>338350 </td> <td>583976 </td>\n",
       "        </tr>\n",
       "    </tbody>\n",
       "        <tr>\n",
       "            <td>H           </td> <td>264379 </td> <td>215532 </td>\n",
       "        </tr>\n",
       "    </tbody>\n",
       "        <tr>\n",
       "            <td>I           </td> <td>183832 </td> <td>192408 </td>\n",
       "        </tr>\n",
       "    </tbody>\n",
       "        <tr>\n",
       "            <td>J           </td> <td>1360403</td> <td>2650587</td>\n",
       "        </tr>\n",
       "    </tbody>\n",
       "</table>\n",
       "<p>... (16 rows omitted)</p"
      ],
      "text/plain": [
       "First Letter | F       | M\n",
       "A            | 1564384 | 1405380\n",
       "B            | 563423  | 666772\n",
       "C            | 1137692 | 978022\n",
       "D            | 801246  | 1334435\n",
       "E            | 714255  | 708814\n",
       "F            | 110414  | 269636\n",
       "G            | 338350  | 583976\n",
       "H            | 264379  | 215532\n",
       "I            | 183832  | 192408\n",
       "J            | 1360403 | 2650587\n",
       "... (16 rows omitted)"
      ]
     },
     "execution_count": 11,
     "metadata": {},
     "output_type": "execute_result"
    }
   ],
   "source": [
    "pivot_by_first = baby_names.pivot(\"Gender\", \"First Letter\", values = \"Count\", collect = sum) # SOLUTION\n",
    "pivot_by_first"
   ]
  },
  {
   "cell_type": "markdown",
   "metadata": {},
   "source": [
    "The pivot table is somewhat hard to read because the number are so big. Let's fix that by turning the numbers into proportions of males and females for each letter. You don't need to fully understand the next code cell, but make sure you understand the new pivot table before moving on."
   ]
  },
  {
   "cell_type": "code",
   "execution_count": 13,
   "metadata": {
    "collapsed": false
   },
   "outputs": [
    {
     "data": {
      "text/html": [
       "<table border=\"1\" class=\"dataframe\">\n",
       "    <thead>\n",
       "        <tr>\n",
       "            <th>First Letter</th> <th>F</th> <th>M</th>\n",
       "        </tr>\n",
       "    </thead>\n",
       "    <tbody>\n",
       "        <tr>\n",
       "            <td>A           </td> <td>0.52677 </td> <td>0.47323 </td>\n",
       "        </tr>\n",
       "    </tbody>\n",
       "        <tr>\n",
       "            <td>B           </td> <td>0.457995</td> <td>0.542005</td>\n",
       "        </tr>\n",
       "    </tbody>\n",
       "        <tr>\n",
       "            <td>C           </td> <td>0.537734</td> <td>0.462266</td>\n",
       "        </tr>\n",
       "    </tbody>\n",
       "        <tr>\n",
       "            <td>D           </td> <td>0.375171</td> <td>0.624829</td>\n",
       "        </tr>\n",
       "    </tbody>\n",
       "        <tr>\n",
       "            <td>E           </td> <td>0.501912</td> <td>0.498088</td>\n",
       "        </tr>\n",
       "    </tbody>\n",
       "        <tr>\n",
       "            <td>F           </td> <td>0.290525</td> <td>0.709475</td>\n",
       "        </tr>\n",
       "    </tbody>\n",
       "        <tr>\n",
       "            <td>G           </td> <td>0.366844</td> <td>0.633156</td>\n",
       "        </tr>\n",
       "    </tbody>\n",
       "        <tr>\n",
       "            <td>H           </td> <td>0.550892</td> <td>0.449108</td>\n",
       "        </tr>\n",
       "    </tbody>\n",
       "        <tr>\n",
       "            <td>I           </td> <td>0.488603</td> <td>0.511397</td>\n",
       "        </tr>\n",
       "    </tbody>\n",
       "        <tr>\n",
       "            <td>J           </td> <td>0.339169</td> <td>0.660831</td>\n",
       "        </tr>\n",
       "    </tbody>\n",
       "        <tr>\n",
       "            <td>K           </td> <td>0.677066</td> <td>0.322934</td>\n",
       "        </tr>\n",
       "    </tbody>\n",
       "        <tr>\n",
       "            <td>L           </td> <td>0.661649</td> <td>0.338351</td>\n",
       "        </tr>\n",
       "    </tbody>\n",
       "        <tr>\n",
       "            <td>M           </td> <td>0.531583</td> <td>0.468417</td>\n",
       "        </tr>\n",
       "    </tbody>\n",
       "        <tr>\n",
       "            <td>N           </td> <td>0.550311</td> <td>0.449689</td>\n",
       "        </tr>\n",
       "    </tbody>\n",
       "        <tr>\n",
       "            <td>O           </td> <td>0.318539</td> <td>0.681461</td>\n",
       "        </tr>\n",
       "    </tbody>\n",
       "        <tr>\n",
       "            <td>P           </td> <td>0.511879</td> <td>0.488121</td>\n",
       "        </tr>\n",
       "    </tbody>\n",
       "        <tr>\n",
       "            <td>Q           </td> <td>0.27978 </td> <td>0.72022 </td>\n",
       "        </tr>\n",
       "    </tbody>\n",
       "        <tr>\n",
       "            <td>R           </td> <td>0.276452</td> <td>0.723548</td>\n",
       "        </tr>\n",
       "    </tbody>\n",
       "        <tr>\n",
       "            <td>S           </td> <td>0.627655</td> <td>0.372345</td>\n",
       "        </tr>\n",
       "    </tbody>\n",
       "        <tr>\n",
       "            <td>T           </td> <td>0.444542</td> <td>0.555458</td>\n",
       "        </tr>\n",
       "    </tbody>\n",
       "        <tr>\n",
       "            <td>U           </td> <td>0.160704</td> <td>0.839296</td>\n",
       "        </tr>\n",
       "    </tbody>\n",
       "        <tr>\n",
       "            <td>V           </td> <td>0.7288  </td> <td>0.2712  </td>\n",
       "        </tr>\n",
       "    </tbody>\n",
       "        <tr>\n",
       "            <td>W           </td> <td>0.160431</td> <td>0.839569</td>\n",
       "        </tr>\n",
       "    </tbody>\n",
       "        <tr>\n",
       "            <td>X           </td> <td>0.407678</td> <td>0.592322</td>\n",
       "        </tr>\n",
       "    </tbody>\n",
       "        <tr>\n",
       "            <td>Y           </td> <td>0.894629</td> <td>0.105371</td>\n",
       "        </tr>\n",
       "    </tbody>\n",
       "        <tr>\n",
       "            <td>Z           </td> <td>0.372526</td> <td>0.627474</td>\n",
       "        </tr>\n",
       "    </tbody>\n",
       "</table>"
      ],
      "text/plain": [
       "<IPython.core.display.HTML object>"
      ]
     },
     "metadata": {},
     "output_type": "display_data"
    }
   ],
   "source": [
    "# Just run this cell\n",
    "totals = pivot_by_first.column('F') + pivot_by_first.column('M')\n",
    "pivot_w_proportions = Table().with_columns('First Letter', pivot_by_first.column('First Letter'),\n",
    "                                           'F', pivot_by_first.column('F')/totals,\n",
    "                                           'M', pivot_by_first.column('M')/totals)\n",
    "pivot_w_proportions.show()"
   ]
  },
  {
   "cell_type": "markdown",
   "metadata": {},
   "source": [
    "## Question 3.5\n",
    "We said earlier that perhaps if a name started with a vowel, the person is a female. For which vowels is this true? For which vowels is this false? Is this method a good way to guess the gender?\n"
   ]
  },
  {
   "cell_type": "markdown",
   "metadata": {},
   "source": [
    "SOLUTION\n",
    "\n",
    "True = A, E, Y\n",
    "\n",
    "\n",
    "False = I, O, U\n",
    "\n",
    "No, because it's not true for all vowels, and even when it is true, the proportions are very close to each other, almost 50-50."
   ]
  },
  {
   "cell_type": "markdown",
   "metadata": {},
   "source": [
    "## Question 4.1: Grouping!\n",
    "Find the 5 most popular baby names in the US throughout time. Do this by making a table that shows the 5 Names and Counts of all the people who had that name. Name this table top5.\n",
    "\n",
    "Note: There are a lot of functions that go into this! This is a hard question."
   ]
  },
  {
   "cell_type": "code",
   "execution_count": 14,
   "metadata": {
    "collapsed": false
   },
   "outputs": [
    {
     "data": {
      "text/html": [
       "<table border=\"1\" class=\"dataframe\">\n",
       "    <thead>\n",
       "        <tr>\n",
       "            <th>Name</th> <th>Count sum</th>\n",
       "        </tr>\n",
       "    </thead>\n",
       "    <tbody>\n",
       "        <tr>\n",
       "            <td>Michael</td> <td>426503   </td>\n",
       "        </tr>\n",
       "    </tbody>\n",
       "        <tr>\n",
       "            <td>David  </td> <td>368328   </td>\n",
       "        </tr>\n",
       "    </tbody>\n",
       "        <tr>\n",
       "            <td>Robert </td> <td>349743   </td>\n",
       "        </tr>\n",
       "    </tbody>\n",
       "        <tr>\n",
       "            <td>John   </td> <td>312073   </td>\n",
       "        </tr>\n",
       "    </tbody>\n",
       "        <tr>\n",
       "            <td>James  </td> <td>276803   </td>\n",
       "        </tr>\n",
       "    </tbody>\n",
       "</table>"
      ],
      "text/plain": [
       "Name    | Count sum\n",
       "Michael | 426503\n",
       "David   | 368328\n",
       "Robert  | 349743\n",
       "John    | 312073\n",
       "James   | 276803"
      ]
     },
     "execution_count": 14,
     "metadata": {},
     "output_type": "execute_result"
    }
   ],
   "source": [
    "# SOLUTION\n",
    "top5 = baby_names.select('Name', 'Count').group('Name', sum).sort('Count sum', descending = True).take(np.arange(5))\n",
    "top5"
   ]
  },
  {
   "cell_type": "markdown",
   "metadata": {},
   "source": [
    "## Question 4.2\n",
    "Let's see if these names correspond with the 5 most popular first letters. Find the 5 most popular first letters in the US throughout time. You should end up with a table that shows the 5 First Letters and Counts of all the people who had that first letter. Name this top5_letter. "
   ]
  },
  {
   "cell_type": "code",
   "execution_count": 16,
   "metadata": {
    "collapsed": false
   },
   "outputs": [
    {
     "data": {
      "text/html": [
       "<table border=\"1\" class=\"dataframe\">\n",
       "    <thead>\n",
       "        <tr>\n",
       "            <th>First Letter</th> <th>Count sum</th>\n",
       "        </tr>\n",
       "    </thead>\n",
       "    <tbody>\n",
       "        <tr>\n",
       "            <td>J           </td> <td>4010990  </td>\n",
       "        </tr>\n",
       "    </tbody>\n",
       "        <tr>\n",
       "            <td>A           </td> <td>2969764  </td>\n",
       "        </tr>\n",
       "    </tbody>\n",
       "        <tr>\n",
       "            <td>M           </td> <td>2791841  </td>\n",
       "        </tr>\n",
       "    </tbody>\n",
       "        <tr>\n",
       "            <td>D           </td> <td>2135681  </td>\n",
       "        </tr>\n",
       "    </tbody>\n",
       "        <tr>\n",
       "            <td>C           </td> <td>2115714  </td>\n",
       "        </tr>\n",
       "    </tbody>\n",
       "</table>"
      ],
      "text/plain": [
       "First Letter | Count sum\n",
       "J            | 4010990\n",
       "A            | 2969764\n",
       "M            | 2791841\n",
       "D            | 2135681\n",
       "C            | 2115714"
      ]
     },
     "execution_count": 16,
     "metadata": {},
     "output_type": "execute_result"
    }
   ],
   "source": [
    "# SOLUTION\n",
    "top5_letter = baby_names.select('First Letter', 'Count') \\\n",
    "                        .group('First Letter', sum)      \\\n",
    "                        .sort('Count sum', descending = True)\\\n",
    "                        .take(np.arange(5))       \n",
    "top5_letter"
   ]
  },
  {
   "cell_type": "markdown",
   "metadata": {},
   "source": [
    "## Question 4.3\n",
    "Some names are gender neutral, which means boys and girls have this name. Look at the counts of people by cross-classifying by name AND gender. Name this table by_name_gender. "
   ]
  },
  {
   "cell_type": "code",
   "execution_count": 17,
   "metadata": {
    "collapsed": false
   },
   "outputs": [
    {
     "data": {
      "text/html": [
       "<table border=\"1\" class=\"dataframe\">\n",
       "    <thead>\n",
       "        <tr>\n",
       "            <th>Name</th> <th>Gender</th> <th>Count sum</th>\n",
       "        </tr>\n",
       "    </thead>\n",
       "    <tbody>\n",
       "        <tr>\n",
       "            <td>Aadan  </td> <td>M     </td> <td>18       </td>\n",
       "        </tr>\n",
       "    </tbody>\n",
       "        <tr>\n",
       "            <td>Aaden  </td> <td>M     </td> <td>546      </td>\n",
       "        </tr>\n",
       "    </tbody>\n",
       "        <tr>\n",
       "            <td>Aadhav </td> <td>M     </td> <td>14       </td>\n",
       "        </tr>\n",
       "    </tbody>\n",
       "        <tr>\n",
       "            <td>Aadhya </td> <td>F     </td> <td>159      </td>\n",
       "        </tr>\n",
       "    </tbody>\n",
       "        <tr>\n",
       "            <td>Aadi   </td> <td>M     </td> <td>116      </td>\n",
       "        </tr>\n",
       "    </tbody>\n",
       "        <tr>\n",
       "            <td>Aadit  </td> <td>M     </td> <td>24       </td>\n",
       "        </tr>\n",
       "    </tbody>\n",
       "        <tr>\n",
       "            <td>Aaditya</td> <td>M     </td> <td>61       </td>\n",
       "        </tr>\n",
       "    </tbody>\n",
       "        <tr>\n",
       "            <td>Aadvik </td> <td>M     </td> <td>7        </td>\n",
       "        </tr>\n",
       "    </tbody>\n",
       "        <tr>\n",
       "            <td>Aadya  </td> <td>F     </td> <td>104      </td>\n",
       "        </tr>\n",
       "    </tbody>\n",
       "        <tr>\n",
       "            <td>Aadyn  </td> <td>M     </td> <td>14       </td>\n",
       "        </tr>\n",
       "    </tbody>\n",
       "</table>\n",
       "<p>... (20652 rows omitted)</p"
      ],
      "text/plain": [
       "Name    | Gender | Count sum\n",
       "Aadan   | M      | 18\n",
       "Aaden   | M      | 546\n",
       "Aadhav  | M      | 14\n",
       "Aadhya  | F      | 159\n",
       "Aadi    | M      | 116\n",
       "Aadit   | M      | 24\n",
       "Aaditya | M      | 61\n",
       "Aadvik  | M      | 7\n",
       "Aadya   | F      | 104\n",
       "Aadyn   | M      | 14\n",
       "... (20652 rows omitted)"
      ]
     },
     "execution_count": 17,
     "metadata": {},
     "output_type": "execute_result"
    }
   ],
   "source": [
    "by_name_gender = baby_names.select('Name', 'Gender', 'Count').group(['Name', 'Gender'], sum) # SOLUTION\n",
    "by_name_gender"
   ]
  },
  {
   "cell_type": "markdown",
   "metadata": {},
   "source": [
    "Some common names are thought of as gender neutral. Use the next code cell to look at some commonly known gender neutral names like Leslie, Cameron, Sam, Jordan, Taylor. You can also input whatever name you would like to see!\n",
    "\n",
    "Are you surprised by the number of females or males with these names? Maybe they aren't as gender neutral as you thought."
   ]
  },
  {
   "cell_type": "code",
   "execution_count": 26,
   "metadata": {
    "collapsed": false
   },
   "outputs": [],
   "source": [
    "by_name_gender.where('Name', are.equal_to(##Insert a name here##)) # enter a string like \"Leslie\""
   ]
  },
  {
   "cell_type": "code",
   "execution_count": null,
   "metadata": {
    "collapsed": true
   },
   "outputs": [],
   "source": []
  }
 ],
 "metadata": {
  "kernelspec": {
   "display_name": "Python 3",
   "language": "python",
   "name": "python3"
  },
  "language_info": {
   "codemirror_mode": {
    "name": "ipython",
    "version": 3
   },
   "file_extension": ".py",
   "mimetype": "text/x-python",
   "name": "python",
   "nbconvert_exporter": "python",
   "pygments_lexer": "ipython3",
   "version": "3.5.2"
  }
 },
 "nbformat": 4,
 "nbformat_minor": 2
}
